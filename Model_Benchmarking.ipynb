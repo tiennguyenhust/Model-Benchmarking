{
 "cells": [
  {
   "cell_type": "markdown",
   "id": "384671b2",
   "metadata": {},
   "source": [
    "# Table of Contents\n",
    "\n",
    "* [Data Loading](#Data_Loading)\n",
    "* [Ultis](#Ultis)\n",
    "* [Model Benchmarking](#Benchmarking)"
   ]
  },
  {
   "cell_type": "markdown",
   "id": "daae7b9e",
   "metadata": {},
   "source": [
    "# Data Loading <a class=\"anchor\" id=\"Data_Loading\"></a>"
   ]
  },
  {
   "cell_type": "code",
   "execution_count": 1,
   "id": "b6f641f2",
   "metadata": {},
   "outputs": [],
   "source": [
    "import pandas as pd\n",
    "import numpy as np\n",
    "from surprise import Reader\n",
    "from surprise import Dataset\n",
    "from surprise import SVD\n",
    "import os"
   ]
  },
  {
   "cell_type": "code",
   "execution_count": 2,
   "id": "3f1e1132",
   "metadata": {
    "scrolled": true
   },
   "outputs": [
    {
     "data": {
      "text/html": [
       "<div>\n",
       "<style scoped>\n",
       "    .dataframe tbody tr th:only-of-type {\n",
       "        vertical-align: middle;\n",
       "    }\n",
       "\n",
       "    .dataframe tbody tr th {\n",
       "        vertical-align: top;\n",
       "    }\n",
       "\n",
       "    .dataframe thead th {\n",
       "        text-align: right;\n",
       "    }\n",
       "</style>\n",
       "<table border=\"1\" class=\"dataframe\">\n",
       "  <thead>\n",
       "    <tr style=\"text-align: right;\">\n",
       "      <th></th>\n",
       "      <th>Unnamed: 0</th>\n",
       "      <th>userId</th>\n",
       "      <th>movieId</th>\n",
       "      <th>rating</th>\n",
       "      <th>timestamp</th>\n",
       "      <th>title</th>\n",
       "      <th>genres</th>\n",
       "      <th>Drama</th>\n",
       "      <th>Animation</th>\n",
       "      <th>Children</th>\n",
       "      <th>...</th>\n",
       "      <th>Horror</th>\n",
       "      <th>Romance</th>\n",
       "      <th>Comedy</th>\n",
       "      <th>Crime</th>\n",
       "      <th>Western</th>\n",
       "      <th>Mystery</th>\n",
       "      <th>IMAX</th>\n",
       "      <th>Documentary</th>\n",
       "      <th>Film-Noir</th>\n",
       "      <th>(no genres listed)</th>\n",
       "    </tr>\n",
       "  </thead>\n",
       "  <tbody>\n",
       "    <tr>\n",
       "      <th>0</th>\n",
       "      <td>0</td>\n",
       "      <td>1</td>\n",
       "      <td>31</td>\n",
       "      <td>2.5</td>\n",
       "      <td>1260759144</td>\n",
       "      <td>Dangerous Minds (1995)</td>\n",
       "      <td>Drama</td>\n",
       "      <td>True</td>\n",
       "      <td>False</td>\n",
       "      <td>False</td>\n",
       "      <td>...</td>\n",
       "      <td>False</td>\n",
       "      <td>False</td>\n",
       "      <td>False</td>\n",
       "      <td>False</td>\n",
       "      <td>False</td>\n",
       "      <td>False</td>\n",
       "      <td>False</td>\n",
       "      <td>False</td>\n",
       "      <td>False</td>\n",
       "      <td>False</td>\n",
       "    </tr>\n",
       "    <tr>\n",
       "      <th>1</th>\n",
       "      <td>1</td>\n",
       "      <td>1</td>\n",
       "      <td>1029</td>\n",
       "      <td>3.0</td>\n",
       "      <td>1260759179</td>\n",
       "      <td>Dumbo (1941)</td>\n",
       "      <td>Animation|Children|Drama|Musical</td>\n",
       "      <td>True</td>\n",
       "      <td>True</td>\n",
       "      <td>True</td>\n",
       "      <td>...</td>\n",
       "      <td>False</td>\n",
       "      <td>False</td>\n",
       "      <td>False</td>\n",
       "      <td>False</td>\n",
       "      <td>False</td>\n",
       "      <td>False</td>\n",
       "      <td>False</td>\n",
       "      <td>False</td>\n",
       "      <td>False</td>\n",
       "      <td>False</td>\n",
       "    </tr>\n",
       "    <tr>\n",
       "      <th>2</th>\n",
       "      <td>2</td>\n",
       "      <td>1</td>\n",
       "      <td>1061</td>\n",
       "      <td>3.0</td>\n",
       "      <td>1260759182</td>\n",
       "      <td>Sleepers (1996)</td>\n",
       "      <td>Thriller</td>\n",
       "      <td>False</td>\n",
       "      <td>False</td>\n",
       "      <td>False</td>\n",
       "      <td>...</td>\n",
       "      <td>False</td>\n",
       "      <td>False</td>\n",
       "      <td>False</td>\n",
       "      <td>False</td>\n",
       "      <td>False</td>\n",
       "      <td>False</td>\n",
       "      <td>False</td>\n",
       "      <td>False</td>\n",
       "      <td>False</td>\n",
       "      <td>False</td>\n",
       "    </tr>\n",
       "  </tbody>\n",
       "</table>\n",
       "<p>3 rows × 27 columns</p>\n",
       "</div>"
      ],
      "text/plain": [
       "   Unnamed: 0  userId  movieId  rating   timestamp                   title  \\\n",
       "0           0       1       31     2.5  1260759144  Dangerous Minds (1995)   \n",
       "1           1       1     1029     3.0  1260759179            Dumbo (1941)   \n",
       "2           2       1     1061     3.0  1260759182         Sleepers (1996)   \n",
       "\n",
       "                             genres  Drama  Animation  Children  ...  Horror  \\\n",
       "0                             Drama   True      False     False  ...   False   \n",
       "1  Animation|Children|Drama|Musical   True       True      True  ...   False   \n",
       "2                          Thriller  False      False     False  ...   False   \n",
       "\n",
       "   Romance  Comedy  Crime  Western  Mystery   IMAX  Documentary  Film-Noir  \\\n",
       "0    False   False  False    False    False  False        False      False   \n",
       "1    False   False  False    False    False  False        False      False   \n",
       "2    False   False  False    False    False  False        False      False   \n",
       "\n",
       "   (no genres listed)  \n",
       "0               False  \n",
       "1               False  \n",
       "2               False  \n",
       "\n",
       "[3 rows x 27 columns]"
      ]
     },
     "execution_count": 2,
     "metadata": {},
     "output_type": "execute_result"
    }
   ],
   "source": [
    "df_master = pd.read_csv('data/cleaned_movie_ratings.csv')\n",
    "df_master.head(3)"
   ]
  },
  {
   "cell_type": "markdown",
   "id": "a87142c3",
   "metadata": {},
   "source": [
    "- Take the userId, movieId, rating and timestamp and save it int cleaned_movie file"
   ]
  },
  {
   "cell_type": "code",
   "execution_count": 3,
   "id": "b1b3953b",
   "metadata": {},
   "outputs": [],
   "source": [
    "data_df = df_master.iloc[:,1:5]\n",
    "data_df.to_csv('data/cleaned_movie.csv', index=False)"
   ]
  },
  {
   "cell_type": "markdown",
   "id": "5de4b8b7",
   "metadata": {},
   "source": [
    "- loading cleaned_movie.csv file using surpise"
   ]
  },
  {
   "cell_type": "code",
   "execution_count": 4,
   "id": "c2a5ba8e",
   "metadata": {},
   "outputs": [],
   "source": [
    "file_path = os.path.expanduser('data/cleaned_movie.csv')\n",
    "reader = Reader(line_format='user item rating timestamp', sep=',', skip_lines=1)\n",
    "data = Dataset.load_from_file(file_path, reader=reader)"
   ]
  },
  {
   "cell_type": "markdown",
   "id": "cf08a282",
   "metadata": {},
   "source": [
    "- show the sample data"
   ]
  },
  {
   "cell_type": "code",
   "execution_count": 5,
   "id": "477f2340",
   "metadata": {},
   "outputs": [
    {
     "data": {
      "text/plain": [
       "[('1', '31', 2.5, '1260759144'),\n",
       " ('1', '1029', 3.0, '1260759179'),\n",
       " ('1', '1061', 3.0, '1260759182'),\n",
       " ('1', '1129', 2.0, '1260759185'),\n",
       " ('1', '1172', 4.0, '1260759205')]"
      ]
     },
     "execution_count": 5,
     "metadata": {},
     "output_type": "execute_result"
    }
   ],
   "source": [
    "data.raw_ratings[:5]"
   ]
  },
  {
   "cell_type": "markdown",
   "id": "9a1feeb1",
   "metadata": {},
   "source": [
    "# Ultis <a class=\"anchor\" id=\"Ultis\"></a>"
   ]
  },
  {
   "cell_type": "markdown",
   "id": "3a2ba380",
   "metadata": {},
   "source": [
    "In this section, I use cross_validate on different models and take the mean values"
   ]
  },
  {
   "cell_type": "code",
   "execution_count": 6,
   "id": "32b924e2",
   "metadata": {},
   "outputs": [],
   "source": [
    "from surprise.model_selection import cross_validate\n",
    "from surprise import SVD, NMF, KNNWithMeans\n",
    "from surprise import accuracy"
   ]
  },
  {
   "cell_type": "markdown",
   "id": "c170d342",
   "metadata": {},
   "source": [
    "## **KNNWithMeans model user-based with cosine similarity**"
   ]
  },
  {
   "cell_type": "markdown",
   "id": "84b319a5",
   "metadata": {},
   "source": [
    "- cross validate KNN model using user-based with cosine similarity, and 5 fold"
   ]
  },
  {
   "cell_type": "code",
   "execution_count": 7,
   "id": "2055259a",
   "metadata": {},
   "outputs": [
    {
     "name": "stdout",
     "output_type": "stream",
     "text": [
      "Computing the cosine similarity matrix...\n",
      "Done computing similarity matrix.\n",
      "Computing the cosine similarity matrix...\n",
      "Done computing similarity matrix.\n",
      "Computing the cosine similarity matrix...\n",
      "Done computing similarity matrix.\n",
      "Computing the cosine similarity matrix...\n",
      "Done computing similarity matrix.\n",
      "Computing the cosine similarity matrix...\n",
      "Done computing similarity matrix.\n",
      "Evaluating RMSE, MAE of algorithm KNNWithMeans on 5 split(s).\n",
      "\n",
      "                  Fold 1  Fold 2  Fold 3  Fold 4  Fold 5  Mean    Std     \n",
      "RMSE (testset)    0.9304  0.9096  0.9142  0.9192  0.9147  0.9176  0.0071  \n",
      "MAE (testset)     0.7099  0.6973  0.6989  0.7028  0.7045  0.7027  0.0044  \n",
      "Fit time          0.73    0.57    0.57    0.57    0.58    0.61    0.06    \n",
      "Test time         1.47    1.43    1.35    1.37    1.50    1.42    0.06    \n"
     ]
    }
   ],
   "source": [
    "sim_options = {\n",
    "    \"name\": \"cosine\",\n",
    "    \"user_based\": True\n",
    "}\n",
    "algo = KNNWithMeans(sim_options=sim_options)\n",
    "\n",
    "results = cross_validate(algo, data, measures=['RMSE', 'MAE'], cv=5, verbose=True)"
   ]
  },
  {
   "cell_type": "markdown",
   "id": "aa03d809",
   "metadata": {},
   "source": [
    "- Save the mean valus of rmse, mae and fit-time for benchmarking"
   ]
  },
  {
   "cell_type": "code",
   "execution_count": 8,
   "id": "3b310fee",
   "metadata": {},
   "outputs": [
    {
     "data": {
      "text/plain": [
       "(0.91761203581797, 0.7026751256812057, 0.6054718971252442)"
      ]
     },
     "execution_count": 8,
     "metadata": {},
     "output_type": "execute_result"
    }
   ],
   "source": [
    "knn_user_rmse_consine = np.mean(results['test_rmse'])\n",
    "knn_user_mae_consine = np.mean(results['test_mae'])\n",
    "knn_user_fit_consine = np.mean(results['fit_time'])\n",
    "\n",
    "knn_user_rmse_consine, knn_user_mae_consine, knn_user_fit_consine"
   ]
  },
  {
   "cell_type": "markdown",
   "id": "282348bc",
   "metadata": {},
   "source": [
    "## **KNNWithMeans model user-based with pearson correlation similarity**"
   ]
  },
  {
   "cell_type": "markdown",
   "id": "ccf094f2",
   "metadata": {},
   "source": [
    "- cross validate KNN model using user-based with pearson correlation similarity, and 5 fold"
   ]
  },
  {
   "cell_type": "code",
   "execution_count": 9,
   "id": "6f61706c",
   "metadata": {},
   "outputs": [
    {
     "name": "stdout",
     "output_type": "stream",
     "text": [
      "Computing the pearson similarity matrix...\n",
      "Done computing similarity matrix.\n",
      "Computing the pearson similarity matrix...\n",
      "Done computing similarity matrix.\n",
      "Computing the pearson similarity matrix...\n",
      "Done computing similarity matrix.\n",
      "Computing the pearson similarity matrix...\n",
      "Done computing similarity matrix.\n",
      "Computing the pearson similarity matrix...\n",
      "Done computing similarity matrix.\n",
      "Evaluating RMSE, MAE of algorithm KNNWithMeans on 5 split(s).\n",
      "\n",
      "                  Fold 1  Fold 2  Fold 3  Fold 4  Fold 5  Mean    Std     \n",
      "RMSE (testset)    0.9173  0.9211  0.9332  0.9255  0.9246  0.9243  0.0053  \n",
      "MAE (testset)     0.6998  0.7001  0.7092  0.7061  0.7061  0.7043  0.0037  \n",
      "Fit time          0.70    0.70    0.95    0.71    0.71    0.75    0.10    \n",
      "Test time         1.37    1.36    1.44    1.34    1.37    1.38    0.04    \n"
     ]
    }
   ],
   "source": [
    "sim_options = {\n",
    "    \"name\": \"pearson\",\n",
    "    \"user_based\": True\n",
    "}\n",
    "algo = KNNWithMeans(sim_options=sim_options)\n",
    "\n",
    "results = cross_validate(algo, data, measures=['RMSE', 'MAE'], cv=5, verbose=True)"
   ]
  },
  {
   "cell_type": "markdown",
   "id": "7eac3b2e",
   "metadata": {},
   "source": [
    "- Save the mean values of rmse, mae, and fit-time for benchmarking"
   ]
  },
  {
   "cell_type": "code",
   "execution_count": 10,
   "id": "f3df5b72",
   "metadata": {},
   "outputs": [
    {
     "data": {
      "text/plain": [
       "(0.9243289866765068, 0.7042643765787767, 0.7521173477172851)"
      ]
     },
     "execution_count": 10,
     "metadata": {},
     "output_type": "execute_result"
    }
   ],
   "source": [
    "knn_user_rmse_pearson = np.mean(results['test_rmse'])\n",
    "knn_user_mae_pearson = np.mean(results['test_mae'])\n",
    "knn_user_fit_pearson = np.mean(results['fit_time'])\n",
    "\n",
    "knn_user_rmse_pearson, knn_user_mae_pearson, knn_user_fit_pearson"
   ]
  },
  {
   "cell_type": "markdown",
   "id": "db651723",
   "metadata": {},
   "source": [
    "## **KNNWithMeans model item-based with consine similarity**"
   ]
  },
  {
   "cell_type": "markdown",
   "id": "66e0da17",
   "metadata": {},
   "source": [
    "- cross validate KNN model using item-based with cosine similarity, and 5 fold"
   ]
  },
  {
   "cell_type": "code",
   "execution_count": 11,
   "id": "7f2512b1",
   "metadata": {},
   "outputs": [
    {
     "name": "stdout",
     "output_type": "stream",
     "text": [
      "Computing the cosine similarity matrix...\n",
      "Done computing similarity matrix.\n",
      "Computing the cosine similarity matrix...\n",
      "Done computing similarity matrix.\n",
      "Computing the cosine similarity matrix...\n",
      "Done computing similarity matrix.\n",
      "Computing the cosine similarity matrix...\n",
      "Done computing similarity matrix.\n",
      "Computing the cosine similarity matrix...\n",
      "Done computing similarity matrix.\n",
      "Evaluating RMSE, MAE of algorithm KNNWithMeans on 5 split(s).\n",
      "\n",
      "                  Fold 1  Fold 2  Fold 3  Fold 4  Fold 5  Mean    Std     \n",
      "RMSE (testset)    0.9284  0.9055  0.9264  0.9087  0.9236  0.9185  0.0095  \n",
      "MAE (testset)     0.7069  0.6949  0.7113  0.6997  0.7061  0.7038  0.0058  \n",
      "Fit time          6.29    6.34    6.94    6.49    8.01    6.81    0.64    \n",
      "Test time         3.68    3.34    3.34    3.99    3.69    3.61    0.25    \n"
     ]
    }
   ],
   "source": [
    "sim_options = {\n",
    "    \"name\": \"cosine\",\n",
    "    \"user_based\": False\n",
    "}\n",
    "algo = KNNWithMeans(sim_options=sim_options)\n",
    "\n",
    "results = cross_validate(algo, data, measures=['RMSE', 'MAE'], cv=5, verbose=True)"
   ]
  },
  {
   "cell_type": "markdown",
   "id": "024bc36c",
   "metadata": {},
   "source": [
    "- Save the mean values of rmse, mae, and fit-time for benchmarking"
   ]
  },
  {
   "cell_type": "code",
   "execution_count": 12,
   "id": "da68ab59",
   "metadata": {},
   "outputs": [
    {
     "data": {
      "text/plain": [
       "(0.9185101799067719, 0.7037776462017884, 6.812107801437378)"
      ]
     },
     "execution_count": 12,
     "metadata": {},
     "output_type": "execute_result"
    }
   ],
   "source": [
    "knn_item_rmse_consine = np.mean(results['test_rmse'])\n",
    "knn_item_mae_consine = np.mean(results['test_mae'])\n",
    "knn_item_fit_consine = np.mean(results['fit_time'])\n",
    "\n",
    "knn_item_rmse_consine, knn_item_mae_consine, knn_item_fit_consine"
   ]
  },
  {
   "cell_type": "markdown",
   "id": "ac443c76",
   "metadata": {},
   "source": [
    "## **KNNWithMeans model item-based with pearson correlation similarity**"
   ]
  },
  {
   "cell_type": "markdown",
   "id": "4552453e",
   "metadata": {},
   "source": [
    "- cross validate KNN model using item-based with pearson correlation similarity, and 5 fold"
   ]
  },
  {
   "cell_type": "code",
   "execution_count": 13,
   "id": "08540c98",
   "metadata": {},
   "outputs": [
    {
     "name": "stdout",
     "output_type": "stream",
     "text": [
      "Computing the pearson similarity matrix...\n",
      "Done computing similarity matrix.\n",
      "Computing the pearson similarity matrix...\n",
      "Done computing similarity matrix.\n",
      "Computing the pearson similarity matrix...\n",
      "Done computing similarity matrix.\n",
      "Computing the pearson similarity matrix...\n",
      "Done computing similarity matrix.\n",
      "Computing the pearson similarity matrix...\n",
      "Done computing similarity matrix.\n",
      "Evaluating RMSE, MAE of algorithm KNNWithMeans on 5 split(s).\n",
      "\n",
      "                  Fold 1  Fold 2  Fold 3  Fold 4  Fold 5  Mean    Std     \n",
      "RMSE (testset)    0.9139  0.9273  0.9234  0.9221  0.9292  0.9232  0.0053  \n",
      "MAE (testset)     0.6975  0.7045  0.7010  0.7007  0.7067  0.7021  0.0032  \n",
      "Fit time          9.34    8.76    9.24    8.32    8.95    8.92    0.37    \n",
      "Test time         3.18    3.26    4.42    3.37    3.27    3.50    0.46    \n"
     ]
    }
   ],
   "source": [
    "sim_options = {\n",
    "    \"name\": \"pearson\",\n",
    "    \"user_based\": False\n",
    "}\n",
    "algo = KNNWithMeans(sim_options=sim_options)\n",
    "\n",
    "results = cross_validate(algo, data, measures=['RMSE', 'MAE'], cv=5, verbose=True)"
   ]
  },
  {
   "cell_type": "markdown",
   "id": "3ead6a23",
   "metadata": {},
   "source": [
    "- Save the mean values of rmse, mae, and fit-time for benchmarking"
   ]
  },
  {
   "cell_type": "code",
   "execution_count": 14,
   "id": "a826f7f6",
   "metadata": {},
   "outputs": [
    {
     "data": {
      "text/plain": [
       "(0.9231900536053758, 0.7020940986108472, 8.922833108901978)"
      ]
     },
     "execution_count": 14,
     "metadata": {},
     "output_type": "execute_result"
    }
   ],
   "source": [
    "knn_item_rmse_pearson = np.mean(results['test_rmse'])\n",
    "knn_item_mae_pearson = np.mean(results['test_mae'])\n",
    "knn_item_fit_pearson = np.mean(results['fit_time'])\n",
    "\n",
    "knn_item_rmse_pearson, knn_item_mae_pearson, knn_item_fit_pearson"
   ]
  },
  {
   "cell_type": "markdown",
   "id": "d7dc3508",
   "metadata": {},
   "source": [
    "## **SVD model user-based**"
   ]
  },
  {
   "cell_type": "markdown",
   "id": "c8250a5b",
   "metadata": {},
   "source": [
    "- cross validate SVD model using user-based with 5 fold"
   ]
  },
  {
   "cell_type": "code",
   "execution_count": 15,
   "id": "bc63e2dc",
   "metadata": {},
   "outputs": [
    {
     "name": "stdout",
     "output_type": "stream",
     "text": [
      "Evaluating RMSE, MAE of algorithm SVD on 5 split(s).\n",
      "\n",
      "                  Fold 1  Fold 2  Fold 3  Fold 4  Fold 5  Mean    Std     \n",
      "RMSE (testset)    0.8845  0.8896  0.9050  0.8881  0.9012  0.8937  0.0080  \n",
      "MAE (testset)     0.6785  0.6865  0.6925  0.6847  0.6939  0.6872  0.0056  \n",
      "Fit time          3.80    4.12    3.91    3.95    4.05    3.97    0.11    \n",
      "Test time         0.14    0.11    0.20    0.21    0.19    0.17    0.04    \n"
     ]
    }
   ],
   "source": [
    "algo = SVD()\n",
    "algo.sim_options = {'user_based': True}\n",
    "\n",
    "results = cross_validate(algo, data, measures=['RMSE', 'MAE'], cv=5, verbose=True)"
   ]
  },
  {
   "cell_type": "markdown",
   "id": "8a0454b2",
   "metadata": {},
   "source": [
    "- Save the mean values of rmse, mae, and fit-time for benchmarking"
   ]
  },
  {
   "cell_type": "code",
   "execution_count": 16,
   "id": "e0f1aef7",
   "metadata": {},
   "outputs": [
    {
     "data": {
      "text/plain": [
       "(0.8936798930483201, 0.6872307222544907, 3.9667133331298827)"
      ]
     },
     "execution_count": 16,
     "metadata": {},
     "output_type": "execute_result"
    }
   ],
   "source": [
    "svd_user_rmse = np.mean(results['test_rmse'])\n",
    "svd_user_mae = np.mean(results['test_mae'])\n",
    "svd_user_fit = np.mean(results['fit_time'])\n",
    "\n",
    "svd_user_rmse, svd_user_mae, svd_user_fit"
   ]
  },
  {
   "cell_type": "markdown",
   "id": "dbc17a6e",
   "metadata": {},
   "source": [
    "## **SVD model item-based**"
   ]
  },
  {
   "cell_type": "markdown",
   "id": "e005cac0",
   "metadata": {},
   "source": [
    "- cross validate SVD model using item-based with 5 fold"
   ]
  },
  {
   "cell_type": "code",
   "execution_count": 17,
   "id": "6f791510",
   "metadata": {},
   "outputs": [
    {
     "name": "stdout",
     "output_type": "stream",
     "text": [
      "Evaluating RMSE, MAE of algorithm SVD on 5 split(s).\n",
      "\n",
      "                  Fold 1  Fold 2  Fold 3  Fold 4  Fold 5  Mean    Std     \n",
      "RMSE (testset)    0.9004  0.8918  0.8888  0.8889  0.8904  0.8921  0.0043  \n",
      "MAE (testset)     0.6935  0.6835  0.6846  0.6847  0.6839  0.6860  0.0038  \n",
      "Fit time          4.05    3.82    3.91    4.17    3.72    3.93    0.16    \n",
      "Test time         0.11    0.15    0.11    0.11    0.11    0.12    0.02    \n"
     ]
    }
   ],
   "source": [
    "algo = SVD()\n",
    "algo.sim_options = {'user_based': False}\n",
    "\n",
    "results = cross_validate(algo, data, measures=['RMSE', 'MAE'], cv=5, verbose=True)"
   ]
  },
  {
   "cell_type": "markdown",
   "id": "9ea59908",
   "metadata": {},
   "source": [
    "- Save the mean values of rmse, mae, and fit-time for benchmarking"
   ]
  },
  {
   "cell_type": "code",
   "execution_count": 18,
   "id": "e5f612f4",
   "metadata": {},
   "outputs": [
    {
     "data": {
      "text/plain": [
       "(0.8920536982342891, 0.6860439993792695, 3.9332431316375733)"
      ]
     },
     "execution_count": 18,
     "metadata": {},
     "output_type": "execute_result"
    }
   ],
   "source": [
    "svd_item_rmse = np.mean(results['test_rmse'])\n",
    "svd_item_mae = np.mean(results['test_mae'])\n",
    "svd_item_fit = np.mean(results['fit_time'])\n",
    "\n",
    "svd_item_rmse, svd_item_mae, svd_item_fit"
   ]
  },
  {
   "cell_type": "markdown",
   "id": "ccfa501c",
   "metadata": {},
   "source": [
    "## **NMF model user-based**"
   ]
  },
  {
   "cell_type": "markdown",
   "id": "bef1b320",
   "metadata": {},
   "source": [
    "- cross validate NMF model using user-based with 5 fold"
   ]
  },
  {
   "cell_type": "code",
   "execution_count": 19,
   "id": "2f094da2",
   "metadata": {},
   "outputs": [
    {
     "name": "stdout",
     "output_type": "stream",
     "text": [
      "Evaluating RMSE, MAE of algorithm NMF on 5 split(s).\n",
      "\n",
      "                  Fold 1  Fold 2  Fold 3  Fold 4  Fold 5  Mean    Std     \n",
      "RMSE (testset)    0.9403  0.9448  0.9453  0.9522  0.9498  0.9465  0.0041  \n",
      "MAE (testset)     0.7247  0.7250  0.7248  0.7289  0.7280  0.7263  0.0018  \n",
      "Fit time          4.29    4.30    4.81    4.28    4.30    4.40    0.21    \n",
      "Test time         0.14    0.13    0.09    0.09    0.13    0.12    0.02    \n"
     ]
    }
   ],
   "source": [
    "algo = NMF()\n",
    "algo.sim_options = {'user_based': True}\n",
    "\n",
    "results = cross_validate(algo, data, measures=['RMSE', 'MAE'], cv=5, verbose=True)"
   ]
  },
  {
   "cell_type": "markdown",
   "id": "eecbf165",
   "metadata": {},
   "source": [
    "- Save the mean values of rmse, mae, and fit-time for benchmarking"
   ]
  },
  {
   "cell_type": "code",
   "execution_count": 20,
   "id": "80f55d86",
   "metadata": {},
   "outputs": [
    {
     "data": {
      "text/plain": [
       "(0.9464578268613939, 0.7263064992291123, 4.398010683059693)"
      ]
     },
     "execution_count": 20,
     "metadata": {},
     "output_type": "execute_result"
    }
   ],
   "source": [
    "nmf_user_rmse = np.mean(results['test_rmse'])\n",
    "nmf_user_mae = np.mean(results['test_mae'])\n",
    "nmf_user_fit = np.mean(results['fit_time'])\n",
    "\n",
    "nmf_user_rmse, nmf_user_mae, nmf_user_fit"
   ]
  },
  {
   "cell_type": "markdown",
   "id": "a632eef0",
   "metadata": {},
   "source": [
    "## **NMF model item-based**"
   ]
  },
  {
   "cell_type": "markdown",
   "id": "de529424",
   "metadata": {},
   "source": [
    "- cross validate NMF model using item-based with 5 fold"
   ]
  },
  {
   "cell_type": "code",
   "execution_count": 21,
   "id": "fbaf18f9",
   "metadata": {},
   "outputs": [
    {
     "name": "stdout",
     "output_type": "stream",
     "text": [
      "Evaluating RMSE, MAE of algorithm NMF on 5 split(s).\n",
      "\n",
      "                  Fold 1  Fold 2  Fold 3  Fold 4  Fold 5  Mean    Std     \n",
      "RMSE (testset)    0.9556  0.9381  0.9413  0.9491  0.9407  0.9450  0.0064  \n",
      "MAE (testset)     0.7356  0.7216  0.7217  0.7279  0.7219  0.7257  0.0055  \n",
      "Fit time          4.74    4.43    4.29    4.33    4.79    4.52    0.21    \n",
      "Test time         0.17    0.13    0.09    0.10    0.15    0.13    0.03    \n"
     ]
    }
   ],
   "source": [
    "algo = NMF()\n",
    "algo.sim_options = {'user_based': False}\n",
    "\n",
    "results = cross_validate(algo, data, measures=['RMSE', 'MAE'], cv=5, verbose=True)"
   ]
  },
  {
   "cell_type": "markdown",
   "id": "e4ab51d8",
   "metadata": {},
   "source": [
    "- Save the mean values of rmse, mae, and fit-time for benchmarking"
   ]
  },
  {
   "cell_type": "code",
   "execution_count": 22,
   "id": "d8556afe",
   "metadata": {},
   "outputs": [
    {
     "data": {
      "text/plain": [
       "(0.9449575537653712, 0.7257368256484554, 4.516841983795166)"
      ]
     },
     "execution_count": 22,
     "metadata": {},
     "output_type": "execute_result"
    }
   ],
   "source": [
    "nmf_item_rmse = np.mean(results['test_rmse'])\n",
    "nmf_item_mae = np.mean(results['test_mae'])\n",
    "nmf_item_fit = np.mean(results['fit_time'])\n",
    "\n",
    "nmf_item_rmse, nmf_item_mae, nmf_item_fit"
   ]
  },
  {
   "cell_type": "markdown",
   "id": "46d660a0",
   "metadata": {},
   "source": [
    "# Model Benchmarking <a class=\"anchor\" id=\"Benchmarking\"></a>"
   ]
  },
  {
   "cell_type": "code",
   "execution_count": 23,
   "id": "935ae4b9",
   "metadata": {},
   "outputs": [],
   "source": [
    "models = [\n",
    "    'KNN-user-based-consine', 'KNN-user-based-pearson', 'KNN-item-based-consine', 'KNN-item-based-pearson',\n",
    "    'SVD-user-based', 'SVD-item-based', 'NMF-user-based', 'NMF-item-based'\n",
    "]"
   ]
  },
  {
   "cell_type": "markdown",
   "id": "dace2e76",
   "metadata": {},
   "source": [
    "- create data from saving values"
   ]
  },
  {
   "cell_type": "code",
   "execution_count": 24,
   "id": "de65a300",
   "metadata": {
    "scrolled": true
   },
   "outputs": [
    {
     "data": {
      "text/html": [
       "<div>\n",
       "<style scoped>\n",
       "    .dataframe tbody tr th:only-of-type {\n",
       "        vertical-align: middle;\n",
       "    }\n",
       "\n",
       "    .dataframe tbody tr th {\n",
       "        vertical-align: top;\n",
       "    }\n",
       "\n",
       "    .dataframe thead th {\n",
       "        text-align: right;\n",
       "    }\n",
       "</style>\n",
       "<table border=\"1\" class=\"dataframe\">\n",
       "  <thead>\n",
       "    <tr style=\"text-align: right;\">\n",
       "      <th></th>\n",
       "      <th>RMSE</th>\n",
       "      <th>MAE</th>\n",
       "      <th>Fit-Time</th>\n",
       "    </tr>\n",
       "  </thead>\n",
       "  <tbody>\n",
       "    <tr>\n",
       "      <th>KNN-user-based-consine</th>\n",
       "      <td>0.917612</td>\n",
       "      <td>0.702675</td>\n",
       "      <td>0.605472</td>\n",
       "    </tr>\n",
       "    <tr>\n",
       "      <th>KNN-user-based-pearson</th>\n",
       "      <td>0.924329</td>\n",
       "      <td>0.704264</td>\n",
       "      <td>0.752117</td>\n",
       "    </tr>\n",
       "    <tr>\n",
       "      <th>KNN-item-based-consine</th>\n",
       "      <td>0.918510</td>\n",
       "      <td>0.703778</td>\n",
       "      <td>6.812108</td>\n",
       "    </tr>\n",
       "    <tr>\n",
       "      <th>KNN-item-based-pearson</th>\n",
       "      <td>0.923190</td>\n",
       "      <td>0.702094</td>\n",
       "      <td>8.922833</td>\n",
       "    </tr>\n",
       "    <tr>\n",
       "      <th>SVD-user-based</th>\n",
       "      <td>0.893680</td>\n",
       "      <td>0.687231</td>\n",
       "      <td>3.966713</td>\n",
       "    </tr>\n",
       "    <tr>\n",
       "      <th>SVD-item-based</th>\n",
       "      <td>0.892054</td>\n",
       "      <td>0.686044</td>\n",
       "      <td>3.933243</td>\n",
       "    </tr>\n",
       "    <tr>\n",
       "      <th>NMF-user-based</th>\n",
       "      <td>0.946458</td>\n",
       "      <td>0.726306</td>\n",
       "      <td>4.398011</td>\n",
       "    </tr>\n",
       "    <tr>\n",
       "      <th>NMF-item-based</th>\n",
       "      <td>0.944958</td>\n",
       "      <td>0.725737</td>\n",
       "      <td>4.516842</td>\n",
       "    </tr>\n",
       "  </tbody>\n",
       "</table>\n",
       "</div>"
      ],
      "text/plain": [
       "                            RMSE       MAE  Fit-Time\n",
       "KNN-user-based-consine  0.917612  0.702675  0.605472\n",
       "KNN-user-based-pearson  0.924329  0.704264  0.752117\n",
       "KNN-item-based-consine  0.918510  0.703778  6.812108\n",
       "KNN-item-based-pearson  0.923190  0.702094  8.922833\n",
       "SVD-user-based          0.893680  0.687231  3.966713\n",
       "SVD-item-based          0.892054  0.686044  3.933243\n",
       "NMF-user-based          0.946458  0.726306  4.398011\n",
       "NMF-item-based          0.944958  0.725737  4.516842"
      ]
     },
     "execution_count": 24,
     "metadata": {},
     "output_type": "execute_result"
    }
   ],
   "source": [
    "data = [ \n",
    "    [knn_user_rmse_consine, knn_user_mae_consine, knn_user_fit_consine],\n",
    "    [knn_user_rmse_pearson, knn_user_mae_pearson, knn_user_fit_pearson],\n",
    "    [knn_item_rmse_consine, knn_item_mae_consine, knn_item_fit_consine],\n",
    "    [knn_item_rmse_pearson, knn_item_mae_pearson, knn_item_fit_pearson],\n",
    "    [svd_user_rmse, svd_user_mae, svd_user_fit],\n",
    "    [svd_item_rmse, svd_item_mae, svd_item_fit],\n",
    "    [nmf_user_rmse, nmf_user_mae, nmf_user_fit],\n",
    "    [nmf_item_rmse, nmf_item_mae, nmf_item_fit],\n",
    "]\n",
    "\n",
    "df = pd.DataFrame(data, columns = ['RMSE', 'MAE', 'Fit-Time'])\n",
    "df.set_index([pd.Index(models)])"
   ]
  },
  {
   "cell_type": "code",
   "execution_count": 25,
   "id": "07c417b5",
   "metadata": {},
   "outputs": [],
   "source": [
    "import matplotlib.pyplot as plt"
   ]
  },
  {
   "cell_type": "markdown",
   "id": "41b6006d",
   "metadata": {},
   "source": [
    "- *RMSE benchmark graph*"
   ]
  },
  {
   "cell_type": "code",
   "execution_count": 26,
   "id": "0a475eb4",
   "metadata": {
    "scrolled": true
   },
   "outputs": [
    {
     "data": {
      "image/png": "[encoded data removed]",
      "text/plain": [
       "<Figure size 432x288 with 1 Axes>"
      ]
     },
     "metadata": {
      "needs_background": "light"
     },
     "output_type": "display_data"
    }
   ],
   "source": [
    "plt.barh(models, df['RMSE'])\n",
    "plt.xlabel('RMSE')\n",
    "plt.ylabel('Models')\n",
    "plt.title(\"RMSE benchmarking\")\n",
    "plt.show()"
   ]
  },
  {
   "cell_type": "markdown",
   "id": "41fdf668",
   "metadata": {},
   "source": [
    "    - The RMSE values are quite the same, but the lowerest value is for SVD model"
   ]
  },
  {
   "cell_type": "markdown",
   "id": "fe6acf97",
   "metadata": {},
   "source": [
    "- *MAE benchmark graph*"
   ]
  },
  {
   "cell_type": "code",
   "execution_count": 27,
   "id": "94622670",
   "metadata": {
    "scrolled": false
   },
   "outputs": [
    {
     "data": {
      "image/png": "[encoded data removed]",
      "text/plain": [
       "<Figure size 432x288 with 1 Axes>"
      ]
     },
     "metadata": {
      "needs_background": "light"
     },
     "output_type": "display_data"
    }
   ],
   "source": [
    "plt.barh(models, df['MAE'])\n",
    "plt.xlabel('MAE')\n",
    "plt.ylabel('Models')\n",
    "plt.title(\"MAE benchmarking\")\n",
    "plt.show()"
   ]
  },
  {
   "cell_type": "markdown",
   "id": "29ef6ba3",
   "metadata": {},
   "source": [
    "    - The MAE values are quite the same, but the lowerest value is for SVD model."
   ]
  },
  {
   "cell_type": "markdown",
   "id": "a25232b6",
   "metadata": {},
   "source": [
    "- *Fit-time benchmark graph*"
   ]
  },
  {
   "cell_type": "code",
   "execution_count": 28,
   "id": "1e35a570",
   "metadata": {},
   "outputs": [
    {
     "data": {
      "image/png": "[encoded data removed]",
      "text/plain": [
       "<Figure size 432x288 with 1 Axes>"
      ]
     },
     "metadata": {
      "needs_background": "light"
     },
     "output_type": "display_data"
    }
   ],
   "source": [
    "plt.barh(models, df['Fit-Time'])\n",
    "plt.xlabel('Fit-Time')\n",
    "plt.ylabel('Models')\n",
    "plt.title(\"Fit-Time benchmarking\")\n",
    "plt.show()"
   ]
  },
  {
   "cell_type": "markdown",
   "id": "a1d4ba9f",
   "metadata": {},
   "source": [
    "    - Fit time values are different between models. While the KNN models item-based take longer to fit, the KNN model user-based take short time."
   ]
  },
  {
   "cell_type": "code",
   "execution_count": null,
   "id": "f8b41a74",
   "metadata": {},
   "outputs": [],
   "source": []
  }
 ],
 "metadata": {
  "kernelspec": {
   "display_name": "Python 3",
   "language": "python",
   "name": "python3"
  },
  "language_info": {
   "codemirror_mode": {
    "name": "ipython",
    "version": 3
   },
   "file_extension": ".py",
   "mimetype": "text/x-python",
   "name": "python",
   "nbconvert_exporter": "python",
   "pygments_lexer": "ipython3",
   "version": "3.8.8"
  },
  "toc": {
   "base_numbering": 1,
   "nav_menu": {},
   "number_sections": true,
   "sideBar": true,
   "skip_h1_title": false,
   "title_cell": "Table of Contents",
   "title_sidebar": "Contents",
   "toc_cell": false,
   "toc_position": {},
   "toc_section_display": true,
   "toc_window_display": false
  }
 },
 "nbformat": 4,
 "nbformat_minor": 5
}
